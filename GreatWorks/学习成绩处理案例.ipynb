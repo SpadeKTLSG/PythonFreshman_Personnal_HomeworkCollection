{
 "cells": [
  {
   "cell_type": "markdown",
   "metadata": {},
   "source": [
    "# 带你飞（数据处理案例） \n",
    "  \n",
    "        有人说一个分析项目 80%的工作量都是在清洗数据，这听起来有些匪夷所思，但在实际 的工作中确实如此。数据清洗的目的有两个，第一是通过清洗让数据可用；第二是让数据变 的更适合后续的分析工作。无论是线下人工填写的手工表，还是线上通过工具收集到的数据， 又或者是系统中导出的数据，很多数据源都有一些这样或者那样的问题。例如：数据中的重 复值，异常值，空值，以及多余的空格等问题。下面咱们就数据处理看以下案例。 \n",
    "        现有下列数据如表 2-6 所示，请帮助处理下列两种情况： \n",
    "\n",
    "\n",
    "                                  表 2-6 学习成绩 \n",
    "               学号 姓名 性别 英语 体育 军训 数分 高代 解几 \n",
    "        2308024241 成龙   男  76  78   77   40   23 60 \n",
    "        2308024244 周怡   女  66  91   75   47   47 44 \n",
    "        2308024251 张波   男  85  81   75   45   45 60 \n",
    "        2308024249 朱浩   男  65  50   80   72   62 71 \n",
    "        2308024219 封印   女  73  88   92   61   47 46 \n",
    "        2308024201 迟培   男  60  50   89   71   76 71 \n",
    "        2308024347 李华   女  67  61   84   61   65 78 \n",
    "        2308024307 陈田   男  76  79   86   69   40 69 \n",
    "        2308024326 余皓   男  66  67   85   65   61 71 \n",
    "        2308024320 李嘉   女  62 作弊  90   60   67 77 \n",
    "        2308024342 李上初 男  76  90   84   60   66 60 \n",
    "        2308024310 郭窦   女  79  67   84   64   64 79 \n",
    "        2308024435 姜毅涛 男  77  71  缺考   61   73 76 \n",
    "        2308024432 赵宇   男  74  74   88   68   70 71 \n",
    "        2308024446 周路   女  76  80        61   74 80 \n",
    "        2308024421 林建祥 男  72  72   81   63   90 75 \n",
    "        2308024433 李大强 男  79  76   77   78   70 70 \n",
    "        2308024428 李侧通 男  64  96   91   69   60 77 \n",
    "        2308024402 王慧   女  73  74   93   70   71 75 \n",
    "        2308024422 李晓亮 男  85  60   85   72   72 83 \n",
    "        2308024201 迟培   男  60  50   89   71   76 71 \n",
    "  \n",
    "  \n",
    "        1、将数据表添加两列：各科成绩总分(score)和每位同学的整体情况（类别），类别按 照[df.score.min()-1,400,450,df.score.max()+1]分为\"一般\",\"较好\",\"优秀\"三种情况。 \n",
    "        2、由于“军训”这门课程的成绩与其它科目成绩差异较大，并且给分较为随意，为了避免评定奖学金的不公平，请将各科成绩标准化，再汇总，并标出\"一般\",\"较好\",\"优秀\"三种 类别。    \n",
    "        \n",
    "## 问题一的处理过程：  \n",
    "\n",
    "### 1）数据处理。  \n",
    "导入数据，并查看数据的“形状”。"
   ]
  },
  {
   "cell_type": "markdown",
   "metadata": {
    "collapsed": false
   },
   "source": [
    "import pandas as pd \n",
    "df = pd.read_excel(r'c:\\Users\\yubg\\OneDrive\\2018book\\rz.xlsx') \n",
    "df.shape  #查看数据的“形状”（21 行 10 列） "
   ]
  },
  {
   "cell_type": "markdown",
   "metadata": {},
   "source": [
    "### 2）对数据进行查重"
   ]
  },
  {
   "cell_type": "markdown",
   "metadata": {
    "collapsed": false
   },
   "source": [
    "df.duplicated().tail()          #第二次及其以后出现的均显示为重复，咱们取后 5行 ）"
   ]
  },
  {
   "cell_type": "markdown",
   "metadata": {
    "collapsed": false
   },
   "source": [
    "df[df.duplicated()]             #显示重复的行 "
   ]
  },
  {
   "cell_type": "markdown",
   "metadata": {
    "collapsed": false
   },
   "source": [
    "df1 = df.drop_duplicates()      #删除重复数据行  \n",
    "df1.shape                       #查看数据的“形状”"
   ]
  },
  {
   "cell_type": "markdown",
   "metadata": {
    "collapsed": false
   },
   "source": [
    "### 3）查看为空的数据，并以 0 填充  \n",
    "\n",
    "由于 isnull()筛选空值后返回的是逻辑真假矩阵，如果数据庞大很难发现空数据的位置， 所以要显示缺失值的位置，再进行填充。"
   ]
  },
  {
   "cell_type": "markdown",
   "metadata": {
    "collapsed": false
   },
   "source": [
    "df.isnull().tail()  #查看空值返回的是逻辑真假数据矩阵，为了显示方便取后 5行。很难发现空值的位置"
   ]
  },
  {
   "cell_type": "markdown",
   "metadata": {
    "collapsed": false
   },
   "source": [
    "df1.isnull().any()    #判断哪些列存在缺失值。很轻易的发现哪些列有空值，缩小了范围，"
   ]
  },
  {
   "cell_type": "markdown",
   "metadata": {
    "collapsed": false
   },
   "source": [
    "df1[df1.isnull().values==True]    #显示存在缺失值的行 ,进一步确定空置的位置"
   ]
  },
  {
   "cell_type": "markdown",
   "metadata": {
    "collapsed": false
   },
   "source": [
    "df2 = df1.fillna(0)  #将空数据填充为 0  \n",
    "df2.tail(8)        #查看后 8 行数据 "
   ]
  },
  {
   "cell_type": "markdown",
   "metadata": {},
   "source": [
    "### 4) 处理数据中的空格。  \n",
    "\n",
    "空格会影响我们后续数据的统计和计算。  \n",
    "去除空格的方法有三种：  \n",
    ">第一种是单独去除数据右边的空格（rstrip）；  \n",
    ">第二种是单独去除数据左边的空格（lstrip）；  \n",
    ">第三种是去除数据两边的空格（strip）。\n",
    "\n"
   ]
  },
  {
   "cell_type": "markdown",
   "metadata": {
    "collapsed": false
   },
   "source": [
    "df0 = df2.copy()   #为了数据安全，拷贝一份再操作。\n",
    "df0['解几'] = df2['解几'].astype(str).map(str.strip)  #其它列可以同样操作 ，但请先转化数据格式为str"
   ]
  },
  {
   "cell_type": "markdown",
   "metadata": {},
   "source": [
    "#### 说明：为了数据安全，请保备份好原数据。拷贝数据时要注意“真”拷贝。\n",
    "\n",
    "   >df0=df2[:]  #这是备份数据的一种方法，可以查看修改df0时df2是否会改变  \n",
    "   >df0.columns = ['xuehaoid','grade','name','sex','english','gym','train','shufen','gaodai','jieji']   #重命名表头  \n",
    "   >df0  \n",
    "   >df2  \n",
    "   \n",
    "   也可以通过查看df0和df2的内存地址：\n",
    "   > id(df0)  \n",
    "   > id(df2)  \n",
    "   \n",
    "### 5）查看列数据类型  \n",
    "\n",
    "查看数据框各列中的数据类型是否是 int，若不是则需要处理。对于有数据不一致类型的列，找出该列，以进一步对此列数据进行处理。 \n",
    "   \n",
    "   "
   ]
  },
  {
   "cell_type": "markdown",
   "metadata": {
    "collapsed": false
   },
   "source": [
    "for i in list(df0.columns):\n",
    "    if df0[i].dtype=='O':  #若某列全部是 int 则显示该列为 int 类型，否则为 object \n",
    "        print(i)           #结果显示姓名、性别、体育、军训、解几 5 列数据不是 int "
   ]
  },
  {
   "cell_type": "markdown",
   "metadata": {},
   "source": [
    " “姓名、性别、体育、军训、解几”5 列数据不是 int 格式，分析其原因：  \n",
    "  ⅰ. “解几”列不是 int 格式，是因为前面处理空格时进行了格式转化为 str，所以“解几”列 只需要整体转换为 int 即可；   \n",
    "  ⅱ. “姓名”“性别”两列都是 str，后续不参加运算，所以无需转化，不需要处理；   \n",
    "  ⅲ.查看“体育”“军训”两列数据格式，发现数据不是 int 格式，df['体育']、df['军训']查看数 据发现中包含了“作弊”和“缺考”，所以需要把数据用 0 替换。 \n"
   ]
  },
  {
   "cell_type": "markdown",
   "metadata": {
    "collapsed": false
   },
   "source": [
    "df0['解几'].dtype                #查看“解几”的数据类型：object 或 O"
   ]
  },
  {
   "cell_type": "markdown",
   "metadata": {
    "collapsed": false
   },
   "source": [
    "df0['解几']= df2['解几'].astype(int)     #“解几”列转换成 int \n",
    "df0['解几'].dtype                #查看“解几”的数据类型：int "
   ]
  },
  {
   "cell_type": "markdown",
   "metadata": {},
   "source": [
    "### 6）以 0 填充非 int 型数据  \n",
    "\n",
    "以“体育”列为例，将“体育”列中的值进行遍历，若不是 int 格式就替换为 0，并显示其行 号。 "
   ]
  },
  {
   "cell_type": "markdown",
   "metadata": {
    "collapsed": false
   },
   "source": [
    "ty=list(df0.体育)         #将“体育”列中的数据做成列表 \n",
    "j=0 \n",
    "for i in ty:           \n",
    "    if type(i) != int:    #判断“体育”列中的数据是否均为 int 格式\n",
    "        print('第'+str(ty.index(i))+'行有非 int 数据：',i) #打印非 int 值及其行号\n",
    "        ty[j]=0         #将 0替换该非 int 格式的值\n",
    "    j =j+1  "
   ]
  },
  {
   "cell_type": "markdown",
   "source": [],
   "metadata": {
    "collapsed": false
   }
  },
  {
   "cell_type": "markdown",
   "metadata": {
    "collapsed": false
   },
   "source": [
    "ty  #查看 index=9 的行数据“作弊”是否替换成了 0 "
   ]
  },
  {
   "cell_type": "markdown",
   "metadata": {
    "collapsed": false
   },
   "source": [
    "df0['体育'] = ty         #再将替换过的 ty 放回原 df0列中 \n",
    " \n",
    "jx=list(df0.军训)     #对“军训”列同“体育”列同样的方法处理 \n",
    "k=0 \n",
    "for i in jx:\n",
    "    if type(i) != int:    #判断“军训”列中的数据是否均为 int 格式\n",
    "        print('第'+str(jx.index(i))+'行有非 int 数据：',i) #打印非 int 值及其行号\n",
    "        jx[k]=0         #将 0替换该非 int 格式的值\n",
    "    k =k+1 \n",
    " "
   ]
  },
  {
   "cell_type": "markdown",
   "metadata": {
    "collapsed": false
   },
   "source": [
    "df0['军训'] = jx         #再将替换过的 list 放回原 df0 列中 \n",
    "df0 "
   ]
  },
  {
   "cell_type": "markdown",
   "metadata": {},
   "source": [
    "###### 说明：  \n",
    "    当然这里数据量小，一眼就能发现“作弊”和“缺考”，这种情况可以使用下面方式 处理：  \n",
    "                                 df.replace({'体育':'作弊','军训':'缺考'},0) \n",
    "    但是更多的时候数据庞大，无法肉眼看到，所以还得使用前面的方法处理。 \n",
    "\n",
    "\n",
    "### 7) 问题 1 的处理   \n",
    "\n",
    "    将数据表添加两列：各科成绩总分(score)和每位同学的整体情况（类别），类别按照[df.score.min()-1,400,450,df.score.max()+1]分为\"一般\",\"较好\",\"优秀\"三种情况。 \n",
    "\n",
    "\n",
    "下面可以对该数据框进行统计。先计算每位同学的总分，再排出优良中差。 "
   ]
  },
  {
   "cell_type": "markdown",
   "metadata": {
    "collapsed": false
   },
   "source": [
    "df3 = df0.copy()        #为了方便问题 2，复制一份 df0 \n",
    "df3['score']=df3.英语 + df3.体育 + df3.军训 + df3.数分 + df3.高代 + df3.解几\n",
    "df3.score.describe()    #查看 score 最大最小值以及总记录等，后面再详细了解 "
   ]
  },
  {
   "cell_type": "markdown",
   "metadata": {},
   "source": [
    "##### 数据中的行合并计算为score也可以使用如下的方法：\n",
    "   >from pandas import DataFrame  \n",
    "   >import pandas as pd  \n",
    "   >import numpy as np  \n",
    "   >df8=df0.iloc[:,4:]           #将4-9列重新做成一个数据框  \n",
    "   >df8  \n",
    " \n",
    "\n",
    "   >df8['score']=df8.sum(axis=1)      #行统计，增加一列行小计：score  \n",
    "   >df8  \n",
    " \n",
    "   \n",
    "    >df8.loc['合计']=df8.sum()        #增加一行为列小计：合计  \n",
    "    >df8"
   ]
  },
  {
   "cell_type": "markdown",
   "metadata": {
    "collapsed": false
   },
   "source": [
    "bins=[df3.score.min()-1,400,450,df3.score.max()+1]   #分组的区域划分 \n",
    "label=[\"一般\",\"较好\",\"优秀\"]                          #各组的标签 \n",
    "df4=pd.cut(df3.score,bins,right=False,labels=label)  #数据分组 \n",
    "df3['类别']=df4                                      #在 df3 中增加一列“类别”赋值 df4 \n",
    "df3 "
   ]
  },
  {
   "cell_type": "markdown",
   "metadata": {},
   "source": [
    "### 8）问题 2 的处理  \n",
    "\n",
    "基于问题 1 的方法，主要是把清洗干净的数据 df0 每列数据进行标准化，之后继续使用 问题 1 的方法即可。"
   ]
  },
  {
   "cell_type": "markdown",
   "metadata": {
    "collapsed": false
   },
   "source": [
    "for i in list(df0.columns[4:]):\n",
    "    df0[i] = (df0[i]-df0[i].min())/(df0[i].max()-df0[i].min()) \n",
    "df0.tail() "
   ]
  },
  {
   "cell_type": "markdown",
   "metadata": {
    "collapsed": false
   },
   "source": [
    "df0['score']= df0.英语 + df0.体育 + df0.军训 + df0.数分 + df0.高代 + df0.解几 \n",
    "df0.score.describe()    #查看 score 最大最小值以及总记录数等 "
   ]
  },
  {
   "cell_type": "markdown",
   "metadata": {
    "collapsed": false
   },
   "source": [
    "bins=[df0.score.min()-1,3,4,df0.score.max()+1] \n",
    "label=[\"一般\",\"较好\",\"优秀\"] \n",
    "df_0=pd.cut(df0.score,bins,right=False,labels=label) \n",
    "df0['类别']=df_0 #在 df0 中增加一列“类别”赋值 df_0 \n",
    "df0 "
   ]
  },
  {
   "cell_type": "markdown",
   "metadata": {
    "collapsed": false
   },
   "source": []
  }
 ],
 "metadata": {
  "kernelspec": {
   "display_name": "Python 3",
   "language": "python",
   "name": "python3"
  },
  "language_info": {
   "codemirror_mode": {
    "name": "ipython",
    "version": 3
   },
   "file_extension": ".py",
   "mimetype": "text/x-python",
   "name": "python",
   "nbconvert_exporter": "python",
   "pygments_lexer": "ipython3",
   "version": "3.6.3"
  }
 },
 "nbformat": 4,
 "nbformat_minor": 2
}
